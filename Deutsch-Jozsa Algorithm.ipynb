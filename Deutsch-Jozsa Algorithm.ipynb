{
 "cells": [
  {
   "cell_type": "markdown",
   "metadata": {},
   "source": [
    "# Algoritmo de Deutsch-Jozsa"
   ]
  },
  {
   "cell_type": "markdown",
   "metadata": {},
   "source": [
    "O algoritmo de Deutsch-Jozsa é um algoritmo quântico desenvolvido pelo físico David Deutsch e pelo matemático Richard Jozsa.\n",
    "Foi o primeiro algoritmo a resolver um problema mais rápido que um computador clássico, apresentando uma melhoria exponencial."
   ]
  },
  {
   "cell_type": "markdown",
   "metadata": {},
   "source": [
    "### Definição do problema\n",
    "Nos é dada uma função $f:\\{0,1\\}^n \\rightarrow \\{0,1\\} $ que recebe uma string de bits como input e devolve $0$ ou $1$ como output. É garantido que a função $f$ seja sempre constante, isto é, para qualquer input a função retorna apenas $0$ ou apenas $1$, ou balanceada, a função retorna $0$ para exatamente metade dos inputs e $1$ para a outra metade. O objetivo do algoritmo é definir se a função é constante ou balanceada."
   ]
  },
  {
   "cell_type": "markdown",
   "metadata": {},
   "source": [
    "### Solução clássica\n",
    "No melhor caso a solução clássica necessitaria apenas 2 chamadas da função $f(x)$ para solucionar o problema, assumindo que a função fosse balanceade, por exemplo: Se $f(00\\cdots0) \\rightarrow 1$ e $f(00\\cdots1) \\rightarrow 0$ então a função é balanceade.\n",
    "No pior caso cada chamada da função retornaria o mesmo número até chega na chamada $2^{n-1}+1$ onde a função seria definida como constante caso retornasse o mesmo valor que as chamadas anteriores ou balanceada caso o retorno fosse diferente.\n",
    "\n",
    "No caso de outputs repetidos em sequência, cada chamada aumenta a probabilidade da função ser constante, mas para afirmar com 100% de certeza as $2^{n-1}+1$ devem ser feitas.\n"
   ]
  },
  {
   "cell_type": "markdown",
   "metadata": {},
   "source": [
    "### Solução Quântica\n",
    "\n",
    "\n",
    "O algoritmo de Deutsch-Jozsa provê uma maneira de resolver o problema com 100% de certeza com apenas 1 chamada de função, no entanto é necessário implementar a função dentro de um oraculo que mapeia o estado $|x\\rangle|y\\rangle$ para $|x\\rangle|y\\oplus f(x)\\rangle$ "
   ]
  },
  {
   "cell_type": "markdown",
   "metadata": {},
   "source": [
    "<img src=\"Deutsch-Jozsa-algorithm-quantum-circuit.png\">"
   ]
  },
  {
   "cell_type": "markdown",
   "metadata": {},
   "source": [
    "\n"
   ]
  },
  {
   "cell_type": "markdown",
   "metadata": {},
   "source": [
    "## O Algoritmo\n",
    "\n",
    "O algoritmo inicia preparando o estado quântico inicial de $n+1$ bits quânticos, os n primeiros qubits no estado $|0\\rangle$ e o ultimo no estado $|1\\rangle$\n",
    "\n",
    "$1.\\quad|0\\rangle^{\\otimes \\, n}|1\\rangle$\n",
    "\n",
    "Em seguida aplica-se uma porta Hadamard é aplicada sobre todos os qubits, atingido o estado:\n",
    "\n",
    "$2.\\quad\\rightarrow\\frac{1}{\\sqrt{2^{n}}}\\sum_{x=0}^{2^n-1} |x\\rangle \\Big[\\frac{|0\\rangle - |1\\rangle}{\\sqrt{2}} \\Big]$\n",
    "\n",
    "Depois é aplicada a função $f(x)$ implementada no oráculo do circuito, que mapeia o input $|x\\rangle|y\\rangle$ para $|x\\rangle|y\\oplus f(x)\\rangle$, e após avaliação de todos os casos possíveis de $|x\\rangle$ e aplicando a soma módulo 2 ($\\oplus$) sobre $|y\\rangle$, vemos o seguinte estado:\n",
    "\n",
    "$3.\\quad\\rightarrow\\sum_{x} (-1)^{f(x)} |x\\rangle \\Big[\\frac{|0\\rangle - |1\\rangle}{\\sqrt{2}} \\Big]$\n",
    "\n",
    "Então, aplicamos a porta Hadarmad mais uma vez, apenas para os n primeiros qubits, botendo o estado:\n",
    "\n",
    "$4.\\quad\\rightarrow\\frac{1}{2^n}\\sum_{z}\\sum_{x} \\frac{(-1)^{x\\cdot z + f(x)}|z\\rangle}{\\sqrt{2^n}} \\Big[\\frac{|0\\rangle - |1\\rangle}{\\sqrt{2}} \\Big] $\n",
    "\n",
    "onde $x\\cdot z$ é o produto interno de $x$ e $z$ ou seja, $x\\cdot y=x_0 y_0\\oplus x_1 y_1\\oplus\\cdots\\oplus x_{n-1} y_{n-1} $\n",
    "\n",
    "$5.\\quad z $\n",
    "\n",
    "Por fim, fazemos a medição dos n primeiros bits, obtendo resultado 1 para todos eles caso a função seja constante e 0 se for balanceado"
   ]
  },
  {
   "cell_type": "markdown",
   "metadata": {},
   "source": [
    "## O Algoritmo\n",
    "\n",
    "\n",
    "$1.\\quad|0\\rangle^{\\otimes \\, n}|1\\rangle$\n",
    "\n",
    "$2.\\quad\\rightarrow\\frac{1}{\\sqrt{2^{n}}}\\sum_{x=0}^{2^n-1} |x\\rangle \\Big[\\frac{|0\\rangle - |1\\rangle}{\\sqrt{2}} \\Big]$\n",
    "\n",
    "$3.\\quad\\rightarrow\\sum_{x} (-1)^{f(x)} |x\\rangle \\Big[\\frac{|0\\rangle - |1\\rangle}{\\sqrt{2}} \\Big]$\n",
    "\n",
    "$4.\\quad\\rightarrow\\frac{1}{2^n}\\sum_{z}\\sum_{x} \\frac{(-1)^{x\\cdot z + f(x)}|z\\rangle}{\\sqrt{2^n}} \\Big[\\frac{|0\\rangle - |1\\rangle}{\\sqrt{2}} \\Big] $\n",
    "\n",
    "$5.\\quad z $\n"
   ]
  },
  {
   "cell_type": "code",
   "execution_count": 3,
   "metadata": {},
   "outputs": [],
   "source": [
    "import matplotlib.pyplot as plt\n",
    "%matplotlib inline\n",
    "import numpy as np\n",
    "\n",
    "from qiskit import QuantumCircuit \n",
    "from qiskit import ClassicalRegister \n",
    "from qiskit import QuantumRegister \n",
    "from qiskit import BasicAer, execute \n",
    "from qiskit.tools.visualization import * "
   ]
  },
  {
   "cell_type": "code",
   "execution_count": 4,
   "metadata": {},
   "outputs": [
    {
     "data": {
      "image/png": "[encoded data removed]",
      "text/plain": [
       "<Figure size 709.156x264.88 with 1 Axes>"
      ]
     },
     "execution_count": 4,
     "metadata": {},
     "output_type": "execute_result"
    }
   ],
   "source": [
    "rq = QuantumRegister(3)\n",
    "rc = ClassicalRegister(2)\n",
    "\n",
    "circuito = QuantumCircuit(rq, rc)\n",
    "\n",
    "circuito.x(rq[2])\n",
    "\n",
    "circuito.barrier()\n",
    "\n",
    "circuito.h(rq[0])\n",
    "circuito.h(rq[1])\n",
    "circuito.h(rq[2])\n",
    "\n",
    "circuito.barrier()\n",
    "\n",
    "circuito.x(rq[2])\n",
    "\n",
    "circuito.barrier()\n",
    "\n",
    "circuito.h(rq[0])\n",
    "circuito.h(rq[1])\n",
    "\n",
    "circuito.measure(rq[0],rc[0])\n",
    "circuito.measure(rq[1],rc[1])\n",
    "\n",
    "circuito.draw(output='mpl')"
   ]
  },
  {
   "cell_type": "code",
   "execution_count": null,
   "metadata": {},
   "outputs": [],
   "source": []
  }
 ],
 "metadata": {
  "kernelspec": {
   "display_name": "Python 3",
   "language": "python",
   "name": "python3"
  },
  "language_info": {
   "codemirror_mode": {
    "name": "ipython",
    "version": 3
   },
   "file_extension": ".py",
   "mimetype": "text/x-python",
   "name": "python",
   "nbconvert_exporter": "python",
   "pygments_lexer": "ipython3",
   "version": "3.7.4"
  }
 },
 "nbformat": 4,
 "nbformat_minor": 2
}
